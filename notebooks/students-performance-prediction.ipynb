{
 "cells": [
  {
   "cell_type": "markdown",
   "metadata": {},
   "source": [
    "# Import Library"
   ]
  },
  {
   "cell_type": "code",
   "execution_count": null,
   "metadata": {
    "execution": {
     "iopub.execute_input": "2021-09-14T07:39:23.350435Z",
     "iopub.status.busy": "2021-09-14T07:39:23.349395Z",
     "iopub.status.idle": "2021-09-14T07:39:24.777529Z",
     "shell.execute_reply": "2021-09-14T07:39:24.776702Z",
     "shell.execute_reply.started": "2021-09-14T07:39:23.350311Z"
    },
    "trusted": true
   },
   "outputs": [],
   "source": [
    "import pandas as pd\n",
    "import numpy as np\n",
    "import matplotlib.pyplot as plt\n",
    "import seaborn as sns\n",
    "\n",
    "%matplotlib inline\n",
    "\n",
    "from sklearn.preprocessing import OrdinalEncoder, OneHotEncoder\n",
    "from sklearn.model_selection import train_test_split\n",
    "\n",
    "from sklearn.linear_model import Lasso, LinearRegression\n",
    "from xgboost import XGBRegressor\n",
    "from sklearn.ensemble import RandomForestRegressor\n",
    "from sklearn.svm import SVR\n",
    "\n",
    "from sklearn.metrics import root_mean_squared_error\n",
    "import pickle"
   ]
  },
  {
   "cell_type": "code",
   "execution_count": null,
   "metadata": {
    "execution": {
     "iopub.execute_input": "2021-09-14T07:39:24.780257Z",
     "iopub.status.busy": "2021-09-14T07:39:24.779881Z",
     "iopub.status.idle": "2021-09-14T07:39:24.818534Z",
     "shell.execute_reply": "2021-09-14T07:39:24.817889Z",
     "shell.execute_reply.started": "2021-09-14T07:39:24.780214Z"
    },
    "trusted": true
   },
   "outputs": [
    {
     "data": {
      "text/html": [
       "<div>\n",
       "<style scoped>\n",
       "    .dataframe tbody tr th:only-of-type {\n",
       "        vertical-align: middle;\n",
       "    }\n",
       "\n",
       "    .dataframe tbody tr th {\n",
       "        vertical-align: top;\n",
       "    }\n",
       "\n",
       "    .dataframe thead th {\n",
       "        text-align: right;\n",
       "    }\n",
       "</style>\n",
       "<table border=\"1\" class=\"dataframe\">\n",
       "  <thead>\n",
       "    <tr style=\"text-align: right;\">\n",
       "      <th></th>\n",
       "      <th>gender</th>\n",
       "      <th>race/ethnicity</th>\n",
       "      <th>parental level of education</th>\n",
       "      <th>lunch</th>\n",
       "      <th>test preparation course</th>\n",
       "      <th>math score</th>\n",
       "      <th>reading score</th>\n",
       "      <th>writing score</th>\n",
       "    </tr>\n",
       "  </thead>\n",
       "  <tbody>\n",
       "    <tr>\n",
       "      <th>0</th>\n",
       "      <td>female</td>\n",
       "      <td>group B</td>\n",
       "      <td>bachelor's degree</td>\n",
       "      <td>standard</td>\n",
       "      <td>none</td>\n",
       "      <td>72</td>\n",
       "      <td>72</td>\n",
       "      <td>74</td>\n",
       "    </tr>\n",
       "    <tr>\n",
       "      <th>1</th>\n",
       "      <td>female</td>\n",
       "      <td>group C</td>\n",
       "      <td>some college</td>\n",
       "      <td>standard</td>\n",
       "      <td>completed</td>\n",
       "      <td>69</td>\n",
       "      <td>90</td>\n",
       "      <td>88</td>\n",
       "    </tr>\n",
       "    <tr>\n",
       "      <th>2</th>\n",
       "      <td>female</td>\n",
       "      <td>group B</td>\n",
       "      <td>master's degree</td>\n",
       "      <td>standard</td>\n",
       "      <td>none</td>\n",
       "      <td>90</td>\n",
       "      <td>95</td>\n",
       "      <td>93</td>\n",
       "    </tr>\n",
       "    <tr>\n",
       "      <th>3</th>\n",
       "      <td>male</td>\n",
       "      <td>group A</td>\n",
       "      <td>associate's degree</td>\n",
       "      <td>free/reduced</td>\n",
       "      <td>none</td>\n",
       "      <td>47</td>\n",
       "      <td>57</td>\n",
       "      <td>44</td>\n",
       "    </tr>\n",
       "    <tr>\n",
       "      <th>4</th>\n",
       "      <td>male</td>\n",
       "      <td>group C</td>\n",
       "      <td>some college</td>\n",
       "      <td>standard</td>\n",
       "      <td>none</td>\n",
       "      <td>76</td>\n",
       "      <td>78</td>\n",
       "      <td>75</td>\n",
       "    </tr>\n",
       "  </tbody>\n",
       "</table>\n",
       "</div>"
      ],
      "text/plain": [
       "   gender race/ethnicity parental level of education         lunch  \\\n",
       "0  female        group B           bachelor's degree      standard   \n",
       "1  female        group C                some college      standard   \n",
       "2  female        group B             master's degree      standard   \n",
       "3    male        group A          associate's degree  free/reduced   \n",
       "4    male        group C                some college      standard   \n",
       "\n",
       "  test preparation course  math score  reading score  writing score  \n",
       "0                    none          72             72             74  \n",
       "1               completed          69             90             88  \n",
       "2                    none          90             95             93  \n",
       "3                    none          47             57             44  \n",
       "4                    none          76             78             75  "
      ]
     },
     "execution_count": 2,
     "metadata": {},
     "output_type": "execute_result"
    }
   ],
   "source": [
    "df = pd.read_csv(\"../input/students-performance-in-exams/StudentsPerformance.csv\")\n",
    "df.head()"
   ]
  },
  {
   "cell_type": "markdown",
   "metadata": {},
   "source": [
    "# Data Exploration"
   ]
  },
  {
   "cell_type": "code",
   "execution_count": 3,
   "metadata": {
    "execution": {
     "iopub.execute_input": "2021-09-14T07:39:24.820248Z",
     "iopub.status.busy": "2021-09-14T07:39:24.819451Z",
     "iopub.status.idle": "2021-09-14T07:39:24.846513Z",
     "shell.execute_reply": "2021-09-14T07:39:24.845552Z",
     "shell.execute_reply.started": "2021-09-14T07:39:24.820216Z"
    },
    "trusted": true
   },
   "outputs": [
    {
     "name": "stdout",
     "output_type": "stream",
     "text": [
      "<class 'pandas.core.frame.DataFrame'>\n",
      "RangeIndex: 1000 entries, 0 to 999\n",
      "Data columns (total 8 columns):\n",
      " #   Column                       Non-Null Count  Dtype \n",
      "---  ------                       --------------  ----- \n",
      " 0   gender                       1000 non-null   object\n",
      " 1   race/ethnicity               1000 non-null   object\n",
      " 2   parental level of education  1000 non-null   object\n",
      " 3   lunch                        1000 non-null   object\n",
      " 4   test preparation course      1000 non-null   object\n",
      " 5   math score                   1000 non-null   int64 \n",
      " 6   reading score                1000 non-null   int64 \n",
      " 7   writing score                1000 non-null   int64 \n",
      "dtypes: int64(3), object(5)\n",
      "memory usage: 62.6+ KB\n"
     ]
    }
   ],
   "source": [
    "df.info()"
   ]
  },
  {
   "cell_type": "code",
   "execution_count": 4,
   "metadata": {
    "execution": {
     "iopub.execute_input": "2021-09-14T07:39:24.848339Z",
     "iopub.status.busy": "2021-09-14T07:39:24.847986Z",
     "iopub.status.idle": "2021-09-14T07:39:24.881201Z",
     "shell.execute_reply": "2021-09-14T07:39:24.880357Z",
     "shell.execute_reply.started": "2021-09-14T07:39:24.848309Z"
    },
    "trusted": true
   },
   "outputs": [
    {
     "data": {
      "text/html": [
       "<div>\n",
       "<style scoped>\n",
       "    .dataframe tbody tr th:only-of-type {\n",
       "        vertical-align: middle;\n",
       "    }\n",
       "\n",
       "    .dataframe tbody tr th {\n",
       "        vertical-align: top;\n",
       "    }\n",
       "\n",
       "    .dataframe thead th {\n",
       "        text-align: right;\n",
       "    }\n",
       "</style>\n",
       "<table border=\"1\" class=\"dataframe\">\n",
       "  <thead>\n",
       "    <tr style=\"text-align: right;\">\n",
       "      <th></th>\n",
       "      <th>math score</th>\n",
       "      <th>reading score</th>\n",
       "      <th>writing score</th>\n",
       "    </tr>\n",
       "  </thead>\n",
       "  <tbody>\n",
       "    <tr>\n",
       "      <th>count</th>\n",
       "      <td>1000.00000</td>\n",
       "      <td>1000.000000</td>\n",
       "      <td>1000.000000</td>\n",
       "    </tr>\n",
       "    <tr>\n",
       "      <th>mean</th>\n",
       "      <td>66.08900</td>\n",
       "      <td>69.169000</td>\n",
       "      <td>68.054000</td>\n",
       "    </tr>\n",
       "    <tr>\n",
       "      <th>std</th>\n",
       "      <td>15.16308</td>\n",
       "      <td>14.600192</td>\n",
       "      <td>15.195657</td>\n",
       "    </tr>\n",
       "    <tr>\n",
       "      <th>min</th>\n",
       "      <td>0.00000</td>\n",
       "      <td>17.000000</td>\n",
       "      <td>10.000000</td>\n",
       "    </tr>\n",
       "    <tr>\n",
       "      <th>25%</th>\n",
       "      <td>57.00000</td>\n",
       "      <td>59.000000</td>\n",
       "      <td>57.750000</td>\n",
       "    </tr>\n",
       "    <tr>\n",
       "      <th>50%</th>\n",
       "      <td>66.00000</td>\n",
       "      <td>70.000000</td>\n",
       "      <td>69.000000</td>\n",
       "    </tr>\n",
       "    <tr>\n",
       "      <th>75%</th>\n",
       "      <td>77.00000</td>\n",
       "      <td>79.000000</td>\n",
       "      <td>79.000000</td>\n",
       "    </tr>\n",
       "    <tr>\n",
       "      <th>max</th>\n",
       "      <td>100.00000</td>\n",
       "      <td>100.000000</td>\n",
       "      <td>100.000000</td>\n",
       "    </tr>\n",
       "  </tbody>\n",
       "</table>\n",
       "</div>"
      ],
      "text/plain": [
       "       math score  reading score  writing score\n",
       "count  1000.00000    1000.000000    1000.000000\n",
       "mean     66.08900      69.169000      68.054000\n",
       "std      15.16308      14.600192      15.195657\n",
       "min       0.00000      17.000000      10.000000\n",
       "25%      57.00000      59.000000      57.750000\n",
       "50%      66.00000      70.000000      69.000000\n",
       "75%      77.00000      79.000000      79.000000\n",
       "max     100.00000     100.000000     100.000000"
      ]
     },
     "execution_count": 4,
     "metadata": {},
     "output_type": "execute_result"
    }
   ],
   "source": [
    "df.describe()"
   ]
  },
  {
   "cell_type": "code",
   "execution_count": 5,
   "metadata": {
    "execution": {
     "iopub.execute_input": "2021-09-14T07:39:24.883823Z",
     "iopub.status.busy": "2021-09-14T07:39:24.883559Z",
     "iopub.status.idle": "2021-09-14T07:39:25.163386Z",
     "shell.execute_reply": "2021-09-14T07:39:25.162448Z",
     "shell.execute_reply.started": "2021-09-14T07:39:24.883788Z"
    },
    "trusted": true
   },
   "outputs": [
    {
     "data": {
      "text/plain": [
       "<Axes: >"
      ]
     },
     "execution_count": 5,
     "metadata": {},
     "output_type": "execute_result"
    },
    {
     "data": {
      "image/png": "[encoded data removed]",
      "text/plain": [
       "<Figure size 640x480 with 1 Axes>"
      ]
     },
     "metadata": {},
     "output_type": "display_data"
    }
   ],
   "source": [
    "sns.boxplot(data=df)"
   ]
  },
  {
   "cell_type": "markdown",
   "metadata": {},
   "source": [
    "# Data Preparation"
   ]
  },
  {
   "cell_type": "code",
   "execution_count": null,
   "metadata": {
    "execution": {
     "iopub.execute_input": "2021-09-14T07:39:25.165023Z",
     "iopub.status.busy": "2021-09-14T07:39:25.164744Z",
     "iopub.status.idle": "2021-09-14T07:39:25.209829Z",
     "shell.execute_reply": "2021-09-14T07:39:25.208958Z",
     "shell.execute_reply.started": "2021-09-14T07:39:25.164965Z"
    },
    "trusted": true
   },
   "outputs": [
    {
     "data": {
      "text/html": [
       "<div>\n",
       "<style scoped>\n",
       "    .dataframe tbody tr th:only-of-type {\n",
       "        vertical-align: middle;\n",
       "    }\n",
       "\n",
       "    .dataframe tbody tr th {\n",
       "        vertical-align: top;\n",
       "    }\n",
       "\n",
       "    .dataframe thead th {\n",
       "        text-align: right;\n",
       "    }\n",
       "</style>\n",
       "<table border=\"1\" class=\"dataframe\">\n",
       "  <thead>\n",
       "    <tr style=\"text-align: right;\">\n",
       "      <th></th>\n",
       "      <th>gender</th>\n",
       "      <th>race/ethnicity</th>\n",
       "      <th>parental level of education</th>\n",
       "      <th>lunch</th>\n",
       "      <th>test preparation course</th>\n",
       "      <th>math score</th>\n",
       "      <th>reading score</th>\n",
       "      <th>writing score</th>\n",
       "      <th>final score</th>\n",
       "    </tr>\n",
       "  </thead>\n",
       "  <tbody>\n",
       "    <tr>\n",
       "      <th>0</th>\n",
       "      <td>female</td>\n",
       "      <td>group B</td>\n",
       "      <td>bachelor's degree</td>\n",
       "      <td>standard</td>\n",
       "      <td>none</td>\n",
       "      <td>72</td>\n",
       "      <td>72</td>\n",
       "      <td>74</td>\n",
       "      <td>72.666667</td>\n",
       "    </tr>\n",
       "    <tr>\n",
       "      <th>1</th>\n",
       "      <td>female</td>\n",
       "      <td>group C</td>\n",
       "      <td>some college</td>\n",
       "      <td>standard</td>\n",
       "      <td>completed</td>\n",
       "      <td>69</td>\n",
       "      <td>90</td>\n",
       "      <td>88</td>\n",
       "      <td>82.333333</td>\n",
       "    </tr>\n",
       "    <tr>\n",
       "      <th>2</th>\n",
       "      <td>female</td>\n",
       "      <td>group B</td>\n",
       "      <td>master's degree</td>\n",
       "      <td>standard</td>\n",
       "      <td>none</td>\n",
       "      <td>90</td>\n",
       "      <td>95</td>\n",
       "      <td>93</td>\n",
       "      <td>92.666667</td>\n",
       "    </tr>\n",
       "    <tr>\n",
       "      <th>3</th>\n",
       "      <td>male</td>\n",
       "      <td>group A</td>\n",
       "      <td>associate's degree</td>\n",
       "      <td>free/reduced</td>\n",
       "      <td>none</td>\n",
       "      <td>47</td>\n",
       "      <td>57</td>\n",
       "      <td>44</td>\n",
       "      <td>49.333333</td>\n",
       "    </tr>\n",
       "    <tr>\n",
       "      <th>4</th>\n",
       "      <td>male</td>\n",
       "      <td>group C</td>\n",
       "      <td>some college</td>\n",
       "      <td>standard</td>\n",
       "      <td>none</td>\n",
       "      <td>76</td>\n",
       "      <td>78</td>\n",
       "      <td>75</td>\n",
       "      <td>76.333333</td>\n",
       "    </tr>\n",
       "  </tbody>\n",
       "</table>\n",
       "</div>"
      ],
      "text/plain": [
       "   gender race/ethnicity parental level of education         lunch  \\\n",
       "0  female        group B           bachelor's degree      standard   \n",
       "1  female        group C                some college      standard   \n",
       "2  female        group B             master's degree      standard   \n",
       "3    male        group A          associate's degree  free/reduced   \n",
       "4    male        group C                some college      standard   \n",
       "\n",
       "  test preparation course  math score  reading score  writing score  \\\n",
       "0                    none          72             72             74   \n",
       "1               completed          69             90             88   \n",
       "2                    none          90             95             93   \n",
       "3                    none          47             57             44   \n",
       "4                    none          76             78             75   \n",
       "\n",
       "   final score  \n",
       "0    72.666667  \n",
       "1    82.333333  \n",
       "2    92.666667  \n",
       "3    49.333333  \n",
       "4    76.333333  "
      ]
     },
     "execution_count": 6,
     "metadata": {},
     "output_type": "execute_result"
    }
   ],
   "source": [
    "df[\"final score\"] = df.apply(\n",
    "    lambda x: (x[\"math score\"] + x[\"reading score\"] + x[\"writing score\"]) / 3, axis=1\n",
    ")\n",
    "df.head()"
   ]
  },
  {
   "cell_type": "code",
   "execution_count": null,
   "metadata": {
    "execution": {
     "iopub.execute_input": "2021-09-14T07:39:25.211799Z",
     "iopub.status.busy": "2021-09-14T07:39:25.211302Z",
     "iopub.status.idle": "2021-09-14T07:39:25.222828Z",
     "shell.execute_reply": "2021-09-14T07:39:25.222107Z",
     "shell.execute_reply.started": "2021-09-14T07:39:25.211756Z"
    },
    "trusted": true
   },
   "outputs": [],
   "source": [
    "X = df.drop(\"final score\", axis=1)\n",
    "y = df[\"final score\"]\n",
    "\n",
    "X_train, X_test, y_train, y_test = train_test_split(\n",
    "    X, y, test_size=0.2, random_state=42\n",
    ")\n",
    "\n",
    "X_train_c = X_train.copy()\n",
    "X_test_c = X_test.copy()"
   ]
  },
  {
   "cell_type": "markdown",
   "metadata": {},
   "source": [
    "# Feature Enineering"
   ]
  },
  {
   "cell_type": "code",
   "execution_count": null,
   "metadata": {
    "execution": {
     "iopub.execute_input": "2021-09-14T07:39:25.224960Z",
     "iopub.status.busy": "2021-09-14T07:39:25.224332Z",
     "iopub.status.idle": "2021-09-14T07:39:25.355476Z",
     "shell.execute_reply": "2021-09-14T07:39:25.354821Z",
     "shell.execute_reply.started": "2021-09-14T07:39:25.224918Z"
    },
    "trusted": true
   },
   "outputs": [],
   "source": [
    "# ordinal encoding parental level of education column\n",
    "education = [\n",
    "    [\n",
    "        \"master's degree\",\n",
    "        \"bachelor's degree\",\n",
    "        \"associate's degree\",\n",
    "        \"some college\",\n",
    "        \"high school\",\n",
    "        \"some high school\",\n",
    "    ]\n",
    "]\n",
    "\n",
    "ordinal_enc = OrdinalEncoder(categories=education, dtype=np.int64)\n",
    "X_train_c.loc[:, [\"parental level of education\"]] = ordinal_enc.fit_transform(\n",
    "    X_train.loc[:, [\"parental level of education\"]]\n",
    ")\n",
    "X_test_c.loc[:, [\"parental level of education\"]] = ordinal_enc.transform(\n",
    "    X_test.loc[:, [\"parental level of education\"]]\n",
    ")"
   ]
  },
  {
   "cell_type": "code",
   "execution_count": null,
   "metadata": {
    "execution": {
     "iopub.execute_input": "2021-09-14T07:39:25.357022Z",
     "iopub.status.busy": "2021-09-14T07:39:25.356621Z",
     "iopub.status.idle": "2021-09-14T07:39:25.378281Z",
     "shell.execute_reply": "2021-09-14T07:39:25.377134Z",
     "shell.execute_reply.started": "2021-09-14T07:39:25.356992Z"
    },
    "trusted": true
   },
   "outputs": [],
   "source": [
    "# one hot encoding another category column\n",
    "category = [\"gender\", \"race/ethnicity\", \"lunch\", \"test preparation course\"]\n",
    "\n",
    "onehot_enc = OneHotEncoder(dtype=np.int64, sparse_output=False, drop=\"first\")\n",
    "onehot_train = pd.DataFrame(\n",
    "    onehot_enc.fit_transform(X_train[category]),\n",
    "    columns=onehot_enc.get_feature_names_out(),\n",
    ")\n",
    "onehot_test = pd.DataFrame(\n",
    "    onehot_enc.transform(X_test[category]), columns=onehot_enc.get_feature_names_out()\n",
    ")\n",
    "\n",
    "# set index again\n",
    "onehot_train.index = X_train_c.index\n",
    "onehot_test.index = X_test_c.index\n",
    "\n",
    "# drop category columns\n",
    "X_train_c.drop(category, inplace=True, axis=1)\n",
    "X_test_c.drop(category, inplace=True, axis=1)\n",
    "\n",
    "# concat encoded columns\n",
    "X_train_c = pd.concat([X_train_c, onehot_train], axis=1)\n",
    "X_test_c = pd.concat([X_test_c, onehot_test], axis=1)"
   ]
  },
  {
   "cell_type": "markdown",
   "metadata": {},
   "source": [
    "# Modelling"
   ]
  },
  {
   "cell_type": "code",
   "execution_count": 20,
   "metadata": {
    "execution": {
     "iopub.execute_input": "2021-09-14T07:39:25.380200Z",
     "iopub.status.busy": "2021-09-14T07:39:25.379906Z",
     "iopub.status.idle": "2021-09-14T07:39:25.388354Z",
     "shell.execute_reply": "2021-09-14T07:39:25.387676Z",
     "shell.execute_reply.started": "2021-09-14T07:39:25.380168Z"
    },
    "trusted": true
   },
   "outputs": [],
   "source": [
    "def score(model, X_train, X_test, y_train, y_test):\n",
    "    model.fit(X_train, y_train)\n",
    "    y_pred = model.predict(X_test)\n",
    "    score = root_mean_squared_error(y_test, y_pred)\n",
    "    return score"
   ]
  },
  {
   "cell_type": "code",
   "execution_count": 21,
   "metadata": {
    "execution": {
     "iopub.execute_input": "2021-09-14T07:39:25.390178Z",
     "iopub.status.busy": "2021-09-14T07:39:25.389687Z",
     "iopub.status.idle": "2021-09-14T07:39:26.443176Z",
     "shell.execute_reply": "2021-09-14T07:39:26.442259Z",
     "shell.execute_reply.started": "2021-09-14T07:39:25.390143Z"
    },
    "trusted": true
   },
   "outputs": [],
   "source": [
    "lasso = Lasso()\n",
    "linreg = LinearRegression()\n",
    "rf = RandomForestRegressor(n_estimators=100, random_state=42)\n",
    "svr = SVR(C=0.5)\n",
    "# xgb = XGBRegressor(n_estimators=1000, random_state=42)\n",
    "\n",
    "models = [lasso, linreg, rf, svr]\n",
    "scores = []\n",
    "for m in models:\n",
    "    scores.append(score(m, X_train_c, X_test_c, y_train, y_test))"
   ]
  },
  {
   "cell_type": "code",
   "execution_count": 27,
   "metadata": {
    "execution": {
     "iopub.execute_input": "2021-09-14T07:39:26.445284Z",
     "iopub.status.busy": "2021-09-14T07:39:26.444655Z",
     "iopub.status.idle": "2021-09-14T07:39:26.455949Z",
     "shell.execute_reply": "2021-09-14T07:39:26.455160Z",
     "shell.execute_reply.started": "2021-09-14T07:39:26.445232Z"
    },
    "trusted": true
   },
   "outputs": [
    {
     "name": "stdout",
     "output_type": "stream",
     "text": [
      "[0.07500740645926683, 1.8965053153800233e-14, 1.1285072982582858, 3.192112572296892]\n",
      "RMSE:  1.8965053153800233e-14\n"
     ]
    }
   ],
   "source": [
    "print(scores)\n",
    "print(\"RMSE: \", np.min(scores))"
   ]
  },
  {
   "cell_type": "code",
   "execution_count": 23,
   "metadata": {},
   "outputs": [
    {
     "name": "stdout",
     "output_type": "stream",
     "text": [
      "521    87.000000\n",
      "737    64.000000\n",
      "740    75.000000\n",
      "660    74.666667\n",
      "411    81.666667\n",
      "Name: final score, dtype: float64\n"
     ]
    },
    {
     "data": {
      "text/plain": [
       "array([87.        , 64.        , 75.        , 74.66666667, 81.66666667])"
      ]
     },
     "execution_count": 23,
     "metadata": {},
     "output_type": "execute_result"
    }
   ],
   "source": [
    "print(y_test.head())\n",
    "linreg.predict(X_test_c.head())"
   ]
  },
  {
   "cell_type": "markdown",
   "metadata": {},
   "source": [
    "# Save model and encoding to pickle"
   ]
  },
  {
   "cell_type": "code",
   "execution_count": null,
   "metadata": {},
   "outputs": [
    {
     "name": "stdout",
     "output_type": "stream",
     "text": [
      "saved model successfully!\n",
      "saved onehot encoder successfully!\n",
      "saved ordinal encoder successfully!\n"
     ]
    }
   ],
   "source": [
    "pickle.dump(linreg, open(\"../model/_model_linreg.pkl\", \"wb\"))\n",
    "print(\"saved model successfully!\")\n",
    "\n",
    "pickle.dump(onehot_enc, open(\"../model/_enc_onehot.pkl\", \"wb\"))\n",
    "print(\"saved onehot encoder successfully!\")\n",
    "\n",
    "pickle.dump(ordinal_enc, open(\"../model/_enc_ordinal.pkl\", \"wb\"))\n",
    "print(\"saved ordinal encoder successfully!\")"
   ]
  },
  {
   "cell_type": "code",
   "execution_count": null,
   "metadata": {},
   "outputs": [],
   "source": []
  }
 ],
 "metadata": {
  "kernelspec": {
   "display_name": ".venv",
   "language": "python",
   "name": "python3"
  },
  "language_info": {
   "codemirror_mode": {
    "name": "ipython",
    "version": 3
   },
   "file_extension": ".py",
   "mimetype": "text/x-python",
   "name": "python",
   "nbconvert_exporter": "python",
   "pygments_lexer": "ipython3",
   "version": "3.13.0"
  }
 },
 "nbformat": 4,
 "nbformat_minor": 4
}
